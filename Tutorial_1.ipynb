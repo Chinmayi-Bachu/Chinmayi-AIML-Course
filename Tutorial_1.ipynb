{
  "nbformat": 4,
  "nbformat_minor": 0,
  "metadata": {
    "colab": {
      "provenance": [],
      "authorship_tag": "ABX9TyOSWCy7XaREm/vB1S/Dw6FP",
      "include_colab_link": true
    },
    "kernelspec": {
      "name": "python3",
      "display_name": "Python 3"
    },
    "language_info": {
      "name": "python"
    }
  },
  "cells": [
    {
      "cell_type": "markdown",
      "metadata": {
        "id": "view-in-github",
        "colab_type": "text"
      },
      "source": [
        "<a href=\"https://colab.research.google.com/github/Chinmayi-Bachu/Chinmayi-AIML-Course/blob/main/Tutorial_1.ipynb\" target=\"_parent\"><img src=\"https://colab.research.google.com/assets/colab-badge.svg\" alt=\"Open In Colab\"/></a>"
      ]
    },
    {
      "cell_type": "code",
      "execution_count": 1,
      "metadata": {
        "id": "LsImSWaWZcqL"
      },
      "outputs": [],
      "source": [
        "import numpy as np\n",
        "import matplotlib.pyplot as plt"
      ]
    },
    {
      "cell_type": "markdown",
      "source": [
        "Transpose of Matrix"
      ],
      "metadata": {
        "id": "eKYMGB3Md4gV"
      }
    },
    {
      "cell_type": "code",
      "source": [
        "a = [[10,12,31,24],[22,35,14,38]]\n",
        "b = np.transpose(a)\n",
        "print('Original Matrix\\n',a)\n",
        "print('Transpose Matrix\\n',b)"
      ],
      "metadata": {
        "colab": {
          "base_uri": "https://localhost:8080/"
        },
        "id": "390SNObjdpJK",
        "outputId": "b05d11bb-4450-4d32-ed9e-061c8e5933af"
      },
      "execution_count": 4,
      "outputs": [
        {
          "output_type": "stream",
          "name": "stdout",
          "text": [
            "Original Matrix\n",
            " [[10, 12, 31, 24], [22, 35, 14, 38]]\n",
            "Transpose Matrix\n",
            " [[10 22]\n",
            " [12 35]\n",
            " [31 14]\n",
            " [24 38]]\n"
          ]
        }
      ]
    },
    {
      "cell_type": "markdown",
      "source": [
        "Transpose of a Matrix (as NumPy array)"
      ],
      "metadata": {
        "id": "jIkH2JQkeyQm"
      }
    },
    {
      "cell_type": "code",
      "source": [
        "a = np.array([[10,12,31,24],[22,35,14,38]])\n",
        "b=a.T\n",
        "print('Original Matrix\\n',a)\n",
        "print('Transpose Matrix\\n',b)"
      ],
      "metadata": {
        "colab": {
          "base_uri": "https://localhost:8080/"
        },
        "id": "ZATuyjTDep0c",
        "outputId": "cf996756-4fa1-434f-c7c6-fecca5498828"
      },
      "execution_count": 5,
      "outputs": [
        {
          "output_type": "stream",
          "name": "stdout",
          "text": [
            "Original Matrix\n",
            " [[10 12 31 24]\n",
            " [22 35 14 38]]\n",
            "Transpose Matrix\n",
            " [[10 22]\n",
            " [12 35]\n",
            " [31 14]\n",
            " [24 38]]\n"
          ]
        }
      ]
    },
    {
      "cell_type": "markdown",
      "source": [
        "Dot Product"
      ],
      "metadata": {
        "id": "ntSyl-1OfJTu"
      }
    },
    {
      "cell_type": "code",
      "source": [
        "a=5\n",
        "b=4\n",
        "z=np.dot(a,b)\n",
        "print(z)"
      ],
      "metadata": {
        "colab": {
          "base_uri": "https://localhost:8080/"
        },
        "id": "JvHsLAFIfMlG",
        "outputId": "a40e0dc4-2c04-4e9a-b1e4-cecec6ea393d"
      },
      "execution_count": 6,
      "outputs": [
        {
          "output_type": "stream",
          "name": "stdout",
          "text": [
            "20\n"
          ]
        }
      ]
    },
    {
      "cell_type": "markdown",
      "source": [
        "Dot product of arrays"
      ],
      "metadata": {
        "id": "M8Gt5oDbfVWY"
      }
    },
    {
      "cell_type": "code",
      "source": [
        "a=np.array([1,2,3])\n",
        "b=np.array([4,5,6])\n",
        "z=np.dot(a,b)\n",
        "print(z)"
      ],
      "metadata": {
        "colab": {
          "base_uri": "https://localhost:8080/"
        },
        "id": "FIqp_Vzjfqm6",
        "outputId": "0b0383e2-99f7-44f7-d3a7-0f756c11c83a"
      },
      "execution_count": 8,
      "outputs": [
        {
          "output_type": "stream",
          "name": "stdout",
          "text": [
            "32\n"
          ]
        }
      ]
    },
    {
      "cell_type": "markdown",
      "source": [
        "Matrix Determinant"
      ],
      "metadata": {
        "id": "GfHJDdfsf1fv"
      }
    },
    {
      "cell_type": "code",
      "source": [
        "a = np.random.randint(1,10,[3,3])\n",
        "det = np.linalg.det(a)\n",
        "print(int(det))"
      ],
      "metadata": {
        "colab": {
          "base_uri": "https://localhost:8080/"
        },
        "id": "s5aTFH6Gf1DG",
        "outputId": "84443ed2-9a1b-435d-ce89-3e8ee1755b95"
      },
      "execution_count": 10,
      "outputs": [
        {
          "output_type": "stream",
          "name": "stdout",
          "text": [
            "-83\n"
          ]
        }
      ]
    }
  ]
}